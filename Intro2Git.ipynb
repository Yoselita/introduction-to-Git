{
 "cells": [
  {
   "cell_type": "markdown",
   "id": "79638f3f",
   "metadata": {
    "slideshow": {
     "slide_type": "slide"
    }
   },
   "source": [
    "# An introduction to Git\n",
    "\n",
    "_Josipa Milovac_, Instituto de Física de Cantabria (CSIC-UC), _email: milovacj@unican.es_\n",
    "\n",
    "_Santander, 11.11.2021_"
   ]
  },
  {
   "cell_type": "markdown",
   "id": "778eb74b",
   "metadata": {
    "slideshow": {
     "slide_type": "subslide"
    }
   },
   "source": [
    "### Version Control System (VCS)\n",
    "\n",
    "Definition: \n",
    "A system that continusly keeps track of all changes done to a file or set of files over time in a way which allows you to recall any specific version from the past any time you want (like unlimted 'undo' command), and allows for many people to work on the same file at the same time. \n",
    "\n",
    "VCS tasks:\n",
    "1. Backs up file changes\n",
    "2. Allows an access to history\n",
    "3. Manages merging of changes between different sets of changes done by various people\n",
    "\n",
    "Multitude of active VCSs available - check: https://en.wikipedia.org/wiki/Comparison_of_version-control_software"
   ]
  },
  {
   "cell_type": "markdown",
   "id": "a9c43750",
   "metadata": {
    "slideshow": {
     "slide_type": "slide"
    }
   },
   "source": [
    "### Why we need a VCS?\n",
    "\n",
    "```bash\n",
    "cd ~/myfolder\n",
    "ls\n",
    "thesis_final.doc\n",
    "thesis_final_final.doc\n",
    "thesis_final_finalest.doc\n",
    "thesis_final_end.doc\n",
    "thesis_final_test1.doc\n",
    "thesis_final_test2.doc\n",
    "thesis_final_total.doc\n",
    "...\n",
    "thesis_final_v1.doc\n",
    "thesis_final_v2.doc\n",
    "....\n",
    "thesis_final_3.doc\n",
    "thesis_final_really.doc\n",
    "```  "
   ]
  },
  {
   "cell_type": "markdown",
   "id": "7701da3f",
   "metadata": {
    "slideshow": {
     "slide_type": "subslide"
    }
   },
   "source": [
    "## Git: One of the most popular VCSs amog users due to its flexibility "
   ]
  },
  {
   "cell_type": "markdown",
   "id": "0a5dfebd",
   "metadata": {
    "slideshow": {
     "slide_type": "subslide"
    }
   },
   "source": [
    "### Git curiosities:\n",
    "Developed in 2005 by Linus Torvalds, the Linux developer:\n",
    "\n",
    "    Git - the stupid content tracker, but can mean anything depending on your mood \n",
    "    Check: https://github.com/git/git/blob/e83c5163316f89bfbde7d9ab23ca2e25604af290/README\n",
    "\n",
    "### Git answers to 4 questions: \n",
    "1. Who has changed?\n",
    "2. What has changed?\n",
    "3. When has changed? \n",
    "4. Why has changed?"
   ]
  },
  {
   "cell_type": "markdown",
   "id": "d48f5e61",
   "metadata": {
    "slideshow": {
     "slide_type": "slide"
    }
   },
   "source": [
    "## 1. Setting up Git"
   ]
  },
  {
   "cell_type": "markdown",
   "id": "09feb129",
   "metadata": {
    "slideshow": {
     "slide_type": "subslide"
    }
   },
   "source": [
    "### Checking the instalation:"
   ]
  },
  {
   "cell_type": "code",
   "execution_count": 1,
   "id": "cd5958fc",
   "metadata": {
    "slideshow": {
     "slide_type": "subslide"
    }
   },
   "outputs": [
    {
     "name": "stdout",
     "output_type": "stream",
     "text": [
      "git version 2.25.1\n",
      "\u001b[?2004h"
     ]
    },
    {
     "ename": "",
     "evalue": "1",
     "output_type": "error",
     "traceback": []
    }
   ],
   "source": [
    "git --version"
   ]
  },
  {
   "cell_type": "markdown",
   "id": "2912406b",
   "metadata": {
    "slideshow": {
     "slide_type": "subslide"
    }
   },
   "source": [
    "If not installed,follow the instructions from the Git website (https://git-scm.com/)\n",
    " "
   ]
  },
  {
   "cell_type": "markdown",
   "id": "397591cb",
   "metadata": {
    "slideshow": {
     "slide_type": "subslide"
    }
   },
   "source": [
    "### Git manual and help:\n",
    "```bash\n",
    "# Manual\n",
    "man git\n",
    "\n",
    "# Help\n",
    "git --help\n",
    "```"
   ]
  },
  {
   "cell_type": "markdown",
   "id": "00b72797",
   "metadata": {
    "slideshow": {
     "slide_type": "slide"
    }
   },
   "source": [
    "###  Configure Git:"
   ]
  },
  {
   "cell_type": "code",
   "execution_count": 2,
   "id": "a365e86b",
   "metadata": {
    "slideshow": {
     "slide_type": "subslide"
    }
   },
   "outputs": [
    {
     "name": "stdout",
     "output_type": "stream",
     "text": [
      "\u001b[?2004h\u001b[?2004l\u001b[?2004l\u001b[?2004l\u001b[?2004l\u001b[?2004l\u001b[?2004l\u001b[?2004l"
     ]
    },
    {
     "ename": "",
     "evalue": "1",
     "output_type": "error",
     "traceback": []
    }
   ],
   "source": [
    "# 1. Set your user name\n",
    "git config --global user.name \"pajaro\"\n",
    "\n",
    "# 2. Set your email\n",
    "git config --global user.email \"pajaro@unican.es\"\n",
    "\n",
    "# 3. Set your favourite editor, e.g. emacs, gedit, vim, nano\n",
    "git config --global core.editor \"gedit\""
   ]
  },
  {
   "cell_type": "code",
   "execution_count": 3,
   "id": "0dfb6502",
   "metadata": {
    "scrolled": true,
    "slideshow": {
     "slide_type": "subslide"
    }
   },
   "outputs": [
    {
     "name": "stdout",
     "output_type": "stream",
     "text": [
      "credential.helper=cache\n",
      "user.email=pajaro@unican.es\n",
      "user.name=pajaro\n",
      "core.editor=gedit\n",
      "core.repositoryformatversion=0\n",
      "core.filemode=true\n",
      "core.bare=false\n",
      "core.logallrefupdates=true\n",
      "remote.origin.url=https://github.com/Yoselita/introduction-to-Git.git\n",
      "remote.origin.fetch=+refs/heads/*:refs/remotes/origin/*\n",
      "branch.main.remote=origin\n",
      "branch.main.merge=refs/heads/main\n",
      "\u001b[?2004h"
     ]
    },
    {
     "ename": "",
     "evalue": "1",
     "output_type": "error",
     "traceback": []
    }
   ],
   "source": [
    "# Check what you got  \n",
    "git config --list"
   ]
  },
  {
   "cell_type": "markdown",
   "id": "e1fcf5bd",
   "metadata": {
    "slideshow": {
     "slide_type": "slide"
    }
   },
   "source": [
    "<div class=\"alert alert-danger\" role=\"alert\">\n",
    "<b>Important</b><br/>\n",
    "Before starting with Git, it is necessary to:<br/>\n",
    "1. Check the Git installation (installation manual available on https://git-scm.com/)<br>\n",
    "2. Personalize your Git (e.g. username, email, editor) using git config commands.\n",
    "</div>"
   ]
  },
  {
   "cell_type": "markdown",
   "id": "eb3c5aac",
   "metadata": {
    "slideshow": {
     "slide_type": "slide"
    }
   },
   "source": [
    "<div class=\"alert alert-block alert-info\">\n",
    "<b>Exercise</b><br/>\n",
    "Personalize Git on your machine using git config commands, and check the setting.\n",
    "</div>"
   ]
  },
  {
   "cell_type": "markdown",
   "id": "200f6bec",
   "metadata": {
    "slideshow": {
     "slide_type": "slide"
    }
   },
   "source": [
    "## 2. Creating a repository\n",
    "\n",
    "__Repository__ is a storage area where a version control system (i.e. Git) stores the full history of changes made on the files within the folder, and keeps all the information about who, when, what, and also why."
   ]
  },
  {
   "cell_type": "code",
   "execution_count": 4,
   "id": "f8f853e1",
   "metadata": {
    "slideshow": {
     "slide_type": "subslide"
    }
   },
   "outputs": [
    {
     "name": "stdout",
     "output_type": "stream",
     "text": [
      "\u001b[?2004h\u001b[?2004l\u001b[?2004l"
     ]
    },
    {
     "ename": "",
     "evalue": "1",
     "output_type": "error",
     "traceback": []
    }
   ],
   "source": [
    "mkdir -p ~/MyGitRepo\n",
    "cd ~/MyGitRepo\n",
    "ls -A"
   ]
  },
  {
   "cell_type": "markdown",
   "id": "6a520c03",
   "metadata": {
    "slideshow": {
     "slide_type": "subslide"
    }
   },
   "source": [
    "__Initialize Git:__\n"
   ]
  },
  {
   "cell_type": "code",
   "execution_count": 5,
   "id": "6c4e7976",
   "metadata": {
    "slideshow": {
     "slide_type": "subslide"
    }
   },
   "outputs": [
    {
     "name": "stdout",
     "output_type": "stream",
     "text": [
      "Initialized empty Git repository in /home/milovacj/MyGitRepo/.git/\n",
      "\u001b[?2004h"
     ]
    },
    {
     "ename": "",
     "evalue": "1",
     "output_type": "error",
     "traceback": []
    }
   ],
   "source": [
    "git init  "
   ]
  },
  {
   "cell_type": "code",
   "execution_count": 6,
   "id": "be1a3515",
   "metadata": {
    "slideshow": {
     "slide_type": "subslide"
    }
   },
   "outputs": [
    {
     "name": "stdout",
     "output_type": "stream",
     "text": [
      "\u001b[0m\u001b[01;34m.git\u001b[0m\n",
      "\u001b[?2004h"
     ]
    },
    {
     "ename": "",
     "evalue": "1",
     "output_type": "error",
     "traceback": []
    }
   ],
   "source": [
    "ls -A"
   ]
  },
  {
   "cell_type": "markdown",
   "id": "f3b83535",
   "metadata": {
    "slideshow": {
     "slide_type": "subslide"
    }
   },
   "source": [
    "<div class=\"alert alert-danger\" role=\"alert\">\n",
    "  <b>Important</b><br/>\n",
    "  1. <b>git init</b> initializes Git within the selected repository.<br/>\n",
    "  2. All the information is stored in the hidden <b>.git</b> directory. If deleted, all is lost!\n",
    "</div>"
   ]
  },
  {
   "cell_type": "markdown",
   "id": "f83a8763",
   "metadata": {
    "slideshow": {
     "slide_type": "slide"
    }
   },
   "source": [
    "## 3. Making and tracking changes\n",
    "\n",
    "Lets create our firtst empty file:"
   ]
  },
  {
   "cell_type": "code",
   "execution_count": 7,
   "id": "42b7f923",
   "metadata": {
    "slideshow": {
     "slide_type": "subslide"
    }
   },
   "outputs": [
    {
     "name": "stdout",
     "output_type": "stream",
     "text": [
      "\u001b[?2004h\u001b[?2004l"
     ]
    },
    {
     "ename": "",
     "evalue": "1",
     "output_type": "error",
     "traceback": []
    }
   ],
   "source": [
    "cd ~/MyGitRepo\n",
    "touch readme.txt"
   ]
  },
  {
   "cell_type": "markdown",
   "id": "be3aaad1",
   "metadata": {
    "slideshow": {
     "slide_type": "subslide"
    }
   },
   "source": [
    "Check if Git sees the new file:"
   ]
  },
  {
   "cell_type": "code",
   "execution_count": 8,
   "id": "12d06b30",
   "metadata": {
    "slideshow": {
     "slide_type": "subslide"
    }
   },
   "outputs": [
    {
     "name": "stdout",
     "output_type": "stream",
     "text": [
      "On branch master\n",
      "\n",
      "No commits yet\n",
      "\n",
      "Untracked files:\n",
      "  (use \"git add <file>...\" to include in what will be committed)\n",
      "\t\u001b[31mreadme.txt\u001b[m\n",
      "\n",
      "nothing added to commit but untracked files present (use \"git add\" to track)\n",
      "\u001b[?2004h"
     ]
    },
    {
     "ename": "",
     "evalue": "1",
     "output_type": "error",
     "traceback": []
    }
   ],
   "source": [
    "git status"
   ]
  },
  {
   "cell_type": "markdown",
   "id": "57aded87",
   "metadata": {
    "slideshow": {
     "slide_type": "subslide"
    }
   },
   "source": [
    "Untracked files means that there is a file (readme.txt) that is not yet tracked by Git.<br> \n",
    "To start tracking the file, we have __to stage__ the file:"
   ]
  },
  {
   "cell_type": "code",
   "execution_count": 9,
   "id": "122bb663",
   "metadata": {
    "slideshow": {
     "slide_type": "subslide"
    }
   },
   "outputs": [
    {
     "name": "stdout",
     "output_type": "stream",
     "text": [
      "On branch master\n",
      "\n",
      "No commits yet\n",
      "\n",
      "Changes to be committed:\n",
      "  (use \"git rm --cached <file>...\" to unstage)\n",
      "\t\u001b[32mnew file:   readme.txt\u001b[m\n",
      "\n",
      "\u001b[?2004h"
     ]
    },
    {
     "ename": "",
     "evalue": "1",
     "output_type": "error",
     "traceback": []
    }
   ],
   "source": [
    "git add readme.txt\n",
    "git status"
   ]
  },
  {
   "cell_type": "markdown",
   "id": "ca78f009",
   "metadata": {
    "slideshow": {
     "slide_type": "subslide"
    }
   },
   "source": [
    "The file is staged, but the current snapshot of the file is not saved.<br>\n",
    "To do that, the changes need to be commited:"
   ]
  },
  {
   "cell_type": "code",
   "execution_count": 10,
   "id": "7c42dacd",
   "metadata": {
    "slideshow": {
     "slide_type": "subslide"
    }
   },
   "outputs": [
    {
     "name": "stdout",
     "output_type": "stream",
     "text": [
      "[master (root-commit) 19cf7b9] Add new file\n",
      " 1 file changed, 0 insertions(+), 0 deletions(-)\n",
      " create mode 100644 readme.txt\n",
      "\u001b[?2004h"
     ]
    },
    {
     "ename": "",
     "evalue": "1",
     "output_type": "error",
     "traceback": []
    }
   ],
   "source": [
    "git commit -m 'Add new file'"
   ]
  },
  {
   "cell_type": "markdown",
   "id": "94416480",
   "metadata": {
    "slideshow": {
     "slide_type": "subslide"
    }
   },
   "source": [
    "### Additional commands, arguments, flags for commiting:\n",
    "\n",
    "```bash\n",
    "git commit -a                  # automatically stages all the unstaged files and opens the editor\n",
    "git commit -F [message.txt]    # add commit message from a file\n",
    "git commit --status            # include the oputput of git status in the message\n",
    "git commit --amend             # change or fix a commit message\n",
    "git commit                     # open the editor where you write the message\n",
    "```"
   ]
  },
  {
   "cell_type": "markdown",
   "id": "5f56a16a",
   "metadata": {
    "slideshow": {
     "slide_type": "subslide"
    }
   },
   "source": [
    "<div class=\"alert alert-warning\" role=\"alert\">\n",
    "  <b>Good practice of writing commit messages:</b><br/>\n",
    "    1. Separate a title from the body with a blank line (if message longer) <br/> \n",
    "    2. Capitalize the subject line and each paragraph <br/> \n",
    "    3. Use the imperative mode in the subject line (e.g. Add, Change, Fix...) <br/> \n",
    "    4. Wrap it to 72 characters. <br/>\n",
    "    5. Use the body to explain what and why you have done something. In most cases, you can leave out details about how a change has been made.<br/> \n",
    "</div>"
   ]
  },
  {
   "cell_type": "markdown",
   "id": "1b8297be",
   "metadata": {
    "slideshow": {
     "slide_type": "subslide"
    }
   },
   "source": [
    "### To review the commit message, use git log command:"
   ]
  },
  {
   "cell_type": "code",
   "execution_count": 11,
   "id": "1515e226",
   "metadata": {
    "slideshow": {
     "slide_type": "subslide"
    }
   },
   "outputs": [
    {
     "name": "stdout",
     "output_type": "stream",
     "text": [
      "\u001b[33mcommit 19cf7b96fb6c4371d69c99ac81200a463f606014\u001b[m\u001b[33m (\u001b[m\u001b[1;36mHEAD -> \u001b[m\u001b[1;32mmaster\u001b[m\u001b[33m)\u001b[m\n",
      "Author: pajaro <pajaro@unican.es>\n",
      "Date:   Fri Nov 5 15:30:15 2021 +0100\n",
      "\n",
      "    Add new file\n",
      "\u001b[?2004h"
     ]
    },
    {
     "ename": "",
     "evalue": "1",
     "output_type": "error",
     "traceback": []
    }
   ],
   "source": [
    "git log"
   ]
  },
  {
   "cell_type": "markdown",
   "id": "33ae3b8b",
   "metadata": {
    "slideshow": {
     "slide_type": "slide"
    }
   },
   "source": [
    "<div class=\"alert alert-danger\" role=\"alert\">\n",
    "  <b>Important</b><br/>\n",
    "git commit does 4 things:<br/>\n",
    "1. Saves the current state of the staged file.<br/>\n",
    "2. Gives that state a specific ID.<br/>\n",
    "3. Asigns you as author of the changes.<br/>\n",
    "4. Asings a date and descriptive message you provided as an author.<br/>\n",
    "</div>\n",
    "\n"
   ]
  },
  {
   "cell_type": "markdown",
   "id": "5bb24e05",
   "metadata": {
    "slideshow": {
     "slide_type": "slide"
    }
   },
   "source": [
    "<div class=\"alert alert-block alert-info\">\n",
    "<b>Exercise</b><br/>\n",
    "    1. Write 'This is the first line.' in the readme.txt file and save the changes<br/>\n",
    "    2. Check the git status and stage the file.<br/>\n",
    "    3. Save the current state of the file (a snapshot) and add a meaningful message.<br/>\n",
    "    4. Check log history of the commit message. <br/>\n",
    "</div>"
   ]
  },
  {
   "cell_type": "markdown",
   "id": "f96f8b15",
   "metadata": {
    "slideshow": {
     "slide_type": "subslide"
    }
   },
   "source": [
    "### Solution: \n"
   ]
  },
  {
   "cell_type": "code",
   "execution_count": 12,
   "id": "99073d9b",
   "metadata": {
    "slideshow": {
     "slide_type": "subslide"
    }
   },
   "outputs": [
    {
     "name": "stdout",
     "output_type": "stream",
     "text": [
      "[master 805c0eb] Add first line to the txt file.\n",
      " 1 file changed, 1 insertion(+)\n",
      "\u001b[33mcommit 805c0eb81038922181b28c11d1bc0f159ec2fdd3\u001b[m\u001b[33m (\u001b[m\u001b[1;36mHEAD -> \u001b[m\u001b[1;32mmaster\u001b[m\u001b[33m)\u001b[m\n",
      "Author: pajaro <pajaro@unican.es>\n",
      "Date:   Fri Nov 5 15:30:32 2021 +0100\n",
      "\n",
      "    Add first line to the txt file.\n",
      "\n",
      "\u001b[33mcommit 19cf7b96fb6c4371d69c99ac81200a463f606014\u001b[m\n",
      "Author: pajaro <pajaro@unican.es>\n",
      "Date:   Fri Nov 5 15:30:15 2021 +0100\n",
      "\n",
      "    Add new file\n",
      "\u001b[?2004h"
     ]
    },
    {
     "ename": "",
     "evalue": "1",
     "output_type": "error",
     "traceback": []
    }
   ],
   "source": [
    "echo 'This is the first line.' >readme.txt\n",
    "git add readme.txt\n",
    "git commit -m 'Add first line to the txt file.'\n",
    "git log"
   ]
  },
  {
   "cell_type": "markdown",
   "id": "874f1dcc",
   "metadata": {
    "slideshow": {
     "slide_type": "slide"
    }
   },
   "source": [
    "## 4. Checking differences and exploring history"
   ]
  },
  {
   "cell_type": "code",
   "execution_count": 13,
   "id": "be6649c4",
   "metadata": {
    "slideshow": {
     "slide_type": "subslide"
    }
   },
   "outputs": [
    {
     "name": "stdout",
     "output_type": "stream",
     "text": [
      "\u001b[1mdiff --git a/readme.txt b/readme.txt\u001b[m\n",
      "\u001b[1mindex 597df84..c1c0fb4 100644\u001b[m\n",
      "\u001b[1m--- a/readme.txt\u001b[m\n",
      "\u001b[1m+++ b/readme.txt\u001b[m\n",
      "\u001b[36m@@ -1 +1,2 @@\u001b[m\n",
      " This is the first line.\u001b[m\n",
      "\u001b[32m+\u001b[m\u001b[32mThis is the second line.\u001b[m\n",
      "\u001b[?2004h"
     ]
    },
    {
     "ename": "",
     "evalue": "1",
     "output_type": "error",
     "traceback": []
    }
   ],
   "source": [
    "echo 'This is the second line.' >> readme.txt\n",
    "git diff"
   ]
  },
  {
   "cell_type": "markdown",
   "id": "24e33f0e",
   "metadata": {
    "slideshow": {
     "slide_type": "subslide"
    }
   },
   "source": [
    "But if we stage the file:"
   ]
  },
  {
   "cell_type": "code",
   "execution_count": 14,
   "id": "9131283b",
   "metadata": {
    "slideshow": {
     "slide_type": "subslide"
    }
   },
   "outputs": [
    {
     "name": "stdout",
     "output_type": "stream",
     "text": [
      "\u001b[?2004h\u001b[?2004l"
     ]
    },
    {
     "ename": "",
     "evalue": "1",
     "output_type": "error",
     "traceback": []
    }
   ],
   "source": [
    "git add readme.txt\n",
    "git diff"
   ]
  },
  {
   "cell_type": "code",
   "execution_count": 15,
   "id": "06dcf118",
   "metadata": {
    "slideshow": {
     "slide_type": "subslide"
    }
   },
   "outputs": [
    {
     "name": "stdout",
     "output_type": "stream",
     "text": [
      "\u001b[1mdiff --git a/readme.txt b/readme.txt\u001b[m\n",
      "\u001b[1mindex 597df84..c1c0fb4 100644\u001b[m\n",
      "\u001b[1m--- a/readme.txt\u001b[m\n",
      "\u001b[1m+++ b/readme.txt\u001b[m\n",
      "\u001b[36m@@ -1 +1,2 @@\u001b[m\n",
      " This is the first line.\u001b[m\n",
      "\u001b[32m+\u001b[m\u001b[32mThis is the second line.\u001b[m\n",
      "\u001b[?2004h"
     ]
    },
    {
     "ename": "",
     "evalue": "1",
     "output_type": "error",
     "traceback": []
    }
   ],
   "source": [
    "git diff --staged"
   ]
  },
  {
   "cell_type": "markdown",
   "id": "ec7ef787",
   "metadata": {
    "slideshow": {
     "slide_type": "subslide"
    }
   },
   "source": [
    "### Additional commands, arguments, flags for checking the differences:\n",
    "\n",
    "```bash\n",
    "git diff HEAD~[n] [file]       # automatically stages all the modified or deleted files\n",
    "git diff [commit_ID] [file]    # add commit message from a file\n",
    "git show HEAD~[n] [file]       # automatically stages all the modified or deleted files\n",
    "git show [commit_ID] [file]    # add commit message from a file\n",
    "git log --patch [file]         # unites git diff and git log command\n",
    "```"
   ]
  },
  {
   "cell_type": "markdown",
   "id": "ea35db29",
   "metadata": {
    "slideshow": {
     "slide_type": "slide"
    }
   },
   "source": [
    "<div class=\"alert alert-danger\" role=\"alert\">\n",
    "  <b>Important</b><br/>\n",
    "Git workflow for tracking changes:<br/>\n",
    "    1. git status   -> check current status of the respository <br/>\n",
    "    2. git add [file]>     -> stage a file to be tracked by git <br/>     \n",
    "    3. git diff (--staged)      -> shows the differences made in a file after the last commit <br/>\n",
    "    4. git commit -m 'message'  -> save the current state of the file with a descriptive message <br/>\n",
    "    5. git log      -> check all the history of commits, with all metadata included<br/>\n",
    "</div>"
   ]
  },
  {
   "cell_type": "markdown",
   "id": "01d2c3ff",
   "metadata": {
    "slideshow": {
     "slide_type": "slide"
    }
   },
   "source": [
    "### Unstaging and undoing\n"
   ]
  },
  {
   "cell_type": "code",
   "execution_count": 16,
   "id": "31a84cce",
   "metadata": {
    "slideshow": {
     "slide_type": "subslide"
    }
   },
   "outputs": [
    {
     "name": "stdout",
     "output_type": "stream",
     "text": [
      "On branch master\n",
      "Changes to be committed:\n",
      "  (use \"git restore --staged <file>...\" to unstage)\n",
      "\t\u001b[32mmodified:   readme.txt\u001b[m\n",
      "\n",
      "\u001b[?2004h"
     ]
    },
    {
     "ename": "",
     "evalue": "1",
     "output_type": "error",
     "traceback": []
    }
   ],
   "source": [
    "git status"
   ]
  },
  {
   "cell_type": "markdown",
   "id": "b9151696",
   "metadata": {
    "slideshow": {
     "slide_type": "subslide"
    }
   },
   "source": [
    "To unstage the staged file:"
   ]
  },
  {
   "cell_type": "code",
   "execution_count": 17,
   "id": "f23d2677",
   "metadata": {
    "slideshow": {
     "slide_type": "subslide"
    }
   },
   "outputs": [
    {
     "name": "stdout",
     "output_type": "stream",
     "text": [
      "Unstaged changes after reset:\n",
      "M\treadme.txt\n",
      "On branch master\n",
      "Changes not staged for commit:\n",
      "  (use \"git add <file>...\" to update what will be committed)\n",
      "  (use \"git restore <file>...\" to discard changes in working directory)\n",
      "\t\u001b[31mmodified:   readme.txt\u001b[m\n",
      "\n",
      "no changes added to commit (use \"git add\" and/or \"git commit -a\")\n",
      "\u001b[?2004h"
     ]
    },
    {
     "ename": "",
     "evalue": "1",
     "output_type": "error",
     "traceback": []
    }
   ],
   "source": [
    "git reset readme.txt\n",
    "git status"
   ]
  },
  {
   "cell_type": "code",
   "execution_count": 18,
   "id": "402a7855",
   "metadata": {
    "slideshow": {
     "slide_type": "subslide"
    }
   },
   "outputs": [
    {
     "name": "stdout",
     "output_type": "stream",
     "text": [
      "On branch master\u001b[?2004l\u001b[?2004l\n",
      "nothing to commit, working tree clean\n",
      "\u001b[33mcommit 805c0eb81038922181b28c11d1bc0f159ec2fdd3\u001b[m\u001b[33m (\u001b[m\u001b[1;36mHEAD -> \u001b[m\u001b[1;32mmaster\u001b[m\u001b[33m)\u001b[m\n",
      "Author: pajaro <pajaro@unican.es>\n",
      "Date:   Fri Nov 5 15:30:32 2021 +0100\n",
      "\n",
      "    Add first line to the txt file.\n",
      "\n",
      "\u001b[33mcommit 19cf7b96fb6c4371d69c99ac81200a463f606014\u001b[m\n",
      "Author: pajaro <pajaro@unican.es>\n",
      "Date:   Fri Nov 5 15:30:15 2021 +0100\n",
      "\n",
      "    Add new file\n",
      "\u001b[?2004h"
     ]
    },
    {
     "ename": "",
     "evalue": "1",
     "output_type": "error",
     "traceback": []
    }
   ],
   "source": [
    "# To unstage the modification made after commiting:\n",
    "\n",
    "git checkout -- readme.txt\n",
    "git status\n",
    "git log"
   ]
  },
  {
   "cell_type": "code",
   "execution_count": 19,
   "id": "23070b85",
   "metadata": {
    "slideshow": {
     "slide_type": "subslide"
    }
   },
   "outputs": [
    {
     "name": "stdout",
     "output_type": "stream",
     "text": [
      "HEAD is now at 19cf7b9 Add new file\n",
      "\u001b[33mcommit 19cf7b96fb6c4371d69c99ac81200a463f606014\u001b[m\u001b[33m (\u001b[m\u001b[1;36mHEAD -> \u001b[m\u001b[1;32mmaster\u001b[m\u001b[33m)\u001b[m\n",
      "Author: pajaro <pajaro@unican.es>\n",
      "Date:   Fri Nov 5 15:30:15 2021 +0100\n",
      "\n",
      "    Add new file\n",
      "\u001b[?2004h"
     ]
    },
    {
     "ename": "",
     "evalue": "1",
     "output_type": "error",
     "traceback": []
    }
   ],
   "source": [
    "#To unstage the modifications before commitnig, to a selected commited stage:\n",
    "\n",
    "commit_ID=`git log | grep 'commit' | sed -n '2 p' | awk '{print $2}'`\n",
    "git reset --hard $commit_ID\n",
    "git log"
   ]
  },
  {
   "cell_type": "markdown",
   "id": "ea6dd455",
   "metadata": {
    "slideshow": {
     "slide_type": "subslide"
    }
   },
   "source": [
    "### Additional command arguments, flags for git reset:\n",
    "\n",
    "```bash\n",
    "git reset --soft [commit_ID]  # resets the repositoy HEAD, the index and content not touched\n",
    "git reset --mixed [commit_ID] # resets the repositoy HEAD and index (file unstaged), the content not touched\n",
    "git reset --hard [commit_ID]  # resets the repositoy HEAD, index, and content\n",
    "```\n",
    "\n",
    "### Go back in the history and rewrite the commit message:\n",
    "\n",
    "```bash\n",
    "git revert [commit_ID]        # resets the repositoy HEAD, index, content and the commit message\n",
    "```"
   ]
  },
  {
   "cell_type": "markdown",
   "id": "bef0bffd",
   "metadata": {
    "slideshow": {
     "slide_type": "subslide"
    }
   },
   "source": [
    "<div class=\"alert alert-danger\" role=\"alert\">\n",
    "  <b>Important</b><br/>\n",
    "    1. git reset [file]  -> unstages the file <br/>\n",
    "    2. git reset --[option] [commit_ID] -> undoes changes made on a file before commiting <br/>\n",
    "    3. git revert [commit_ID] -> undoes changes made on a file before commiting, and updates the commit message <br/>\n",
    "    3. git checkout --[file] -> undoes changes made on a file after comming <br/>\n",
    "</div>"
   ]
  },
  {
   "cell_type": "markdown",
   "id": "6b3bbb76",
   "metadata": {
    "slideshow": {
     "slide_type": "slide"
    }
   },
   "source": [
    "<div class=\"alert alert-block alert-info\">\n",
    "<b>Exercise</b><br/>\n",
    "    1. Make a new directory and create 4 empty textual files in it.\n",
    "    2. Stage and commit the made changes. <br/>\n",
    "    3. Add 1 lines \"My test line.\" to 2 files, and commit the changes.<br/>\n",
    "    4. Undo the made changes in step 3, and check the log. <br/>\n",
    "</div>"
   ]
  },
  {
   "cell_type": "markdown",
   "id": "8745cb1a",
   "metadata": {
    "slideshow": {
     "slide_type": "subslide"
    }
   },
   "source": [
    "### Solution: \n",
    "```bash\n",
    "mkdir ~/MyTestRepo\n",
    "cd ~/MyTestRepo\n",
    "git init\n",
    "touch file1.txt  file2.txt  file3.txt  file4.txt\n",
    "git add  file*.txt\n",
    "git commit -m 'Add new empty files.'\n",
    "echo 'My text line.' > file1.txt\n",
    "echo 'My text line.' > file2.txt\n",
    "git add  file*.txt\n",
    "git commit -m 'Add 1 line to file1.txt and file2.txt.'\n",
    "git log\n",
    "commit_ID=`git log | grep 'commit' | sed -n '2 p' | awk '{print $2}'`\n",
    "git reset --hard $commit_ID\n",
    "git log\n",
    "```"
   ]
  },
  {
   "cell_type": "markdown",
   "id": "596715fc",
   "metadata": {
    "slideshow": {
     "slide_type": "slide"
    }
   },
   "source": [
    "## 5. Branches: Listing, Creating, Deleting, Merging"
   ]
  },
  {
   "cell_type": "markdown",
   "id": "26013e68",
   "metadata": {
    "slideshow": {
     "slide_type": "subslide"
    }
   },
   "source": [
    "__Branches__ are poiters to snapshots of the repository that can be edited and version controlled in parallel. "
   ]
  },
  {
   "cell_type": "code",
   "execution_count": 20,
   "id": "8e584cde",
   "metadata": {
    "slideshow": {
     "slide_type": "subslide"
    }
   },
   "outputs": [
    {
     "name": "stdout",
     "output_type": "stream",
     "text": [
      "On branch master\n",
      "nothing to commit, working tree clean\n",
      "\u001b[?2004h"
     ]
    },
    {
     "ename": "",
     "evalue": "1",
     "output_type": "error",
     "traceback": []
    }
   ],
   "source": [
    "cd ~/MyGitRepo\n",
    "git status"
   ]
  },
  {
   "cell_type": "code",
   "execution_count": 21,
   "id": "92ed0fff",
   "metadata": {
    "slideshow": {
     "slide_type": "subslide"
    }
   },
   "outputs": [
    {
     "name": "stdout",
     "output_type": "stream",
     "text": [
      "* \u001b[32mmaster\u001b[m\n",
      "\u001b[?2004h"
     ]
    },
    {
     "ename": "",
     "evalue": "1",
     "output_type": "error",
     "traceback": []
    }
   ],
   "source": [
    "git branch "
   ]
  },
  {
   "cell_type": "markdown",
   "id": "3398ef32",
   "metadata": {
    "slideshow": {
     "slide_type": "subslide"
    }
   },
   "source": [
    "We want to run some tests, but keep this snapshot of the repository untouched. \n",
    "We create a new branch:"
   ]
  },
  {
   "cell_type": "code",
   "execution_count": 22,
   "id": "1b923d8c",
   "metadata": {
    "slideshow": {
     "slide_type": "subslide"
    }
   },
   "outputs": [
    {
     "name": "stdout",
     "output_type": "stream",
     "text": [
      "  expermetal\u001b[ml\u001b[?2004l\n",
      "* \u001b[32mmaster\u001b[m\n",
      "\u001b[?2004h"
     ]
    },
    {
     "ename": "",
     "evalue": "1",
     "output_type": "error",
     "traceback": []
    }
   ],
   "source": [
    "# Create a new branch:\n",
    "git branch expermetal\n",
    "git branch"
   ]
  },
  {
   "cell_type": "code",
   "execution_count": 23,
   "id": "4bc479b6",
   "metadata": {
    "slideshow": {
     "slide_type": "subslide"
    }
   },
   "outputs": [
    {
     "name": "stdout",
     "output_type": "stream",
     "text": [
      "Deleted branch expermetal (was 19cf7b9).\n",
      "  experimental\u001b[m\n",
      "* \u001b[32mmaster\u001b[m\n",
      "\u001b[?2004h"
     ]
    },
    {
     "ename": "",
     "evalue": "1",
     "output_type": "error",
     "traceback": []
    }
   ],
   "source": [
    "# Change the name of the branch:\n",
    "git branch experimental\n",
    "git branch -d expermetal\n",
    "git branch"
   ]
  },
  {
   "cell_type": "code",
   "execution_count": 24,
   "id": "e8a4c9de",
   "metadata": {
    "slideshow": {
     "slide_type": "subslide"
    }
   },
   "outputs": [
    {
     "name": "stdout",
     "output_type": "stream",
     "text": [
      "Switched to branch 'experimental'\n",
      "* \u001b[32mexperimental\u001b[m\n",
      "  master\u001b[m\n",
      "\u001b[?2004h"
     ]
    },
    {
     "ename": "",
     "evalue": "1",
     "output_type": "error",
     "traceback": []
    }
   ],
   "source": [
    "# To make the new branch active:\n",
    "git checkout experimental\n",
    "git branch"
   ]
  },
  {
   "cell_type": "code",
   "execution_count": 25,
   "id": "6da37c81",
   "metadata": {
    "slideshow": {
     "slide_type": "subslide"
    }
   },
   "outputs": [
    {
     "name": "stdout",
     "output_type": "stream",
     "text": [
      "[experimental 6a496eb] Add new line in file1.txt\n",
      " 1 file changed, 1 insertion(+)\n",
      " create mode 100644 file1.txt\n",
      "\u001b[?2004h"
     ]
    },
    {
     "ename": "",
     "evalue": "1",
     "output_type": "error",
     "traceback": []
    }
   ],
   "source": [
    "echo \"This is the line written in a new branch.\" >>file1.txt\n",
    "git add file1.txt\n",
    "git commit -m 'Add new line in file1.txt'"
   ]
  },
  {
   "cell_type": "code",
   "execution_count": 26,
   "id": "2f5070d2",
   "metadata": {
    "slideshow": {
     "slide_type": "subslide"
    }
   },
   "outputs": [
    {
     "name": "stdout",
     "output_type": "stream",
     "text": [
      "\u001b[?2004l\r",
      "\u001b[?2004h"
     ]
    },
    {
     "ename": "",
     "evalue": "1",
     "output_type": "error",
     "traceback": []
    }
   ],
   "source": [
    "gedit file1.txt"
   ]
  },
  {
   "cell_type": "code",
   "execution_count": 27,
   "id": "d668892c",
   "metadata": {
    "slideshow": {
     "slide_type": "subslide"
    }
   },
   "outputs": [
    {
     "name": "stdout",
     "output_type": "stream",
     "text": [
      "Switched to branch 'master'\n",
      "\u001b[?2004h\u001b[?2004l"
     ]
    },
    {
     "ename": "",
     "evalue": "1",
     "output_type": "error",
     "traceback": []
    }
   ],
   "source": [
    "git checkout master\n",
    "gedit file1.txt"
   ]
  },
  {
   "cell_type": "code",
   "execution_count": 28,
   "id": "3a1e5eb6",
   "metadata": {
    "slideshow": {
     "slide_type": "subslide"
    }
   },
   "outputs": [
    {
     "name": "stdout",
     "output_type": "stream",
     "text": [
      "Updating 19cf7b9..6a496eb\n",
      "Fast-forward\n",
      " file1.txt | 1 \u001b[32m+\u001b[m\n",
      " 1 file changed, 1 insertion(+)\n",
      " create mode 100644 file1.txt\n",
      "\u001b[?2004h\u001b[?2004l"
     ]
    },
    {
     "ename": "",
     "evalue": "1",
     "output_type": "error",
     "traceback": []
    }
   ],
   "source": [
    "git merge experimental\n",
    "gedit file1.txt"
   ]
  },
  {
   "cell_type": "markdown",
   "id": "b2876274",
   "metadata": {
    "slideshow": {
     "slide_type": "slide"
    }
   },
   "source": [
    "<div class=\"alert alert-danger\" role=\"alert\">\n",
    "  <b>Important</b><br/>\n",
    "    1. git branch -> lists the branches in the repository <br/>\n",
    "    2. git branch [branch_name] -> creates a new branch with the name [branch_name] <br/>\n",
    "    3. git checkout [branch_name]-> activates selected [branch_name]  <br/>\n",
    "    4. git merge [branch_name] -> merges the [branch_name] to the currently active branch<br/>\n",
    "</div>"
   ]
  },
  {
   "cell_type": "markdown",
   "id": "46e01629",
   "metadata": {
    "slideshow": {
     "slide_type": "slide"
    }
   },
   "source": [
    "<div class=\"alert alert-block alert-info\">\n",
    "<b>Exercise</b><br/>\n",
    "    1. Create a new repository named \"year\" and create a new empty txt file names \"days.txt\" <br/>\n",
    "    2. Create 2 new branches named \"january\", \"february\" <br/>\n",
    "    3. In one brach add file named \"day31.txt\", and in the second branch add file \"day29.txt\"<br/>\n",
    "    4. How many files you have now in your master branch? <br/>\n",
    "    5. Merge each branch into the master branch <br/>\n",
    "    6. Delete the created branches <br/>\n",
    "    7. How many files you have now in your master branch? <br/>\n",
    "</div>"
   ]
  },
  {
   "cell_type": "markdown",
   "id": "d36cc6b8",
   "metadata": {
    "slideshow": {
     "slide_type": "subslide"
    }
   },
   "source": [
    "### Solution: \n",
    "```bash\n",
    "# Task 1\n",
    "mkdir ~/year\n",
    "cd ~/year\n",
    "git init\n",
    "touch days.txt\n",
    "git add days.txt\n",
    "git commit -m 'Add new empty file days.txt .'\n",
    "# Task 2\n",
    "git branch january\n",
    "git branch february\n",
    "# Task 3\n",
    "git checkout january\n",
    "touch day31.txt\n",
    "git commit -m 'Add day31.txt file.'\n",
    "git checkout february\n",
    "touch day29.txt\n",
    "git commit -m 'Add day31.txt file.'\n",
    "# Task 4\n",
    "ls\n",
    "One files are within the master branch\n",
    "# Task 5\n",
    "git checkout master\n",
    "git merge january\n",
    "git merge february\n",
    "# Task 6\n",
    "git branch -d january\n",
    "git branch -d february\n",
    "# Task 7\n",
    "ls\n",
    "Three files are within the master branch\n",
    "```"
   ]
  },
  {
   "cell_type": "code",
   "execution_count": null,
   "id": "c0b0c160",
   "metadata": {},
   "outputs": [],
   "source": []
  }
 ],
 "metadata": {
  "celltoolbar": "Slideshow",
  "kernelspec": {
   "display_name": "Bash",
   "language": "bash",
   "name": "bash"
  },
  "language_info": {
   "codemirror_mode": "shell",
   "file_extension": ".sh",
   "mimetype": "text/x-sh",
   "name": "bash"
  }
 },
 "nbformat": 4,
 "nbformat_minor": 5
}
