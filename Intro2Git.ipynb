{
 "cells": [
  {
   "cell_type": "markdown",
   "id": "79638f3f",
   "metadata": {
    "slideshow": {
     "slide_type": "slide"
    }
   },
   "source": [
    "# An introduction to Git\n",
    "\n",
    "_Josipa Milovac_, Instituto de Física de Cantabria (CSIC-UC), _email: milovacj@unican.es_\n",
    "\n",
    "_Santander, 11.11.2021_"
   ]
  },
  {
   "cell_type": "markdown",
   "id": "778eb74b",
   "metadata": {
    "slideshow": {
     "slide_type": "slide"
    }
   },
   "source": [
    "### Version Control System (VCS)\n",
    "\n",
    "Definition: \n",
    "A system that continusly keeps track of all changes done to a file or set of files over time in a way which allows you to recall any specific version from the past any time you want (like unlimted 'undo' command), and allows for many people to work on the same file at the same time. \n",
    "\n",
    "VCS tasks:\n",
    "1. Backs up file changes\n",
    "2. Allows an access to history\n",
    "3. Manages merging of changes between different sets of changes done by various people\n",
    "\n",
    "Multitude of active VCSs available - check: https://en.wikipedia.org/wiki/Comparison_of_version-control_software"
   ]
  },
  {
   "cell_type": "markdown",
   "id": "a9c43750",
   "metadata": {
    "slideshow": {
     "slide_type": "slide"
    }
   },
   "source": [
    "### Why we need a VCS?\n",
    "\n",
    "```bash\n",
    "cd ~/myfolder\n",
    "ls\n",
    "thesis_final.doc\n",
    "thesis_final_final.doc\n",
    "thesis_final_finalest.doc\n",
    "thesis_final_end.doc\n",
    "thesis_final_test1.doc\n",
    "thesis_final_test2.doc\n",
    "thesis_final_total.doc\n",
    "...\n",
    "thesis_final_v1.doc\n",
    "thesis_final_v2.doc\n",
    "....\n",
    "thesis_final_3.doc\n",
    "thesis_final_really.doc\n",
    "```  "
   ]
  },
  {
   "cell_type": "markdown",
   "id": "7701da3f",
   "metadata": {
    "slideshow": {
     "slide_type": "subslide"
    }
   },
   "source": [
    "## Git: One of the most popular VCSs amog users due to its flexibility "
   ]
  },
  {
   "cell_type": "markdown",
   "id": "0a5dfebd",
   "metadata": {
    "slideshow": {
     "slide_type": "slide"
    }
   },
   "source": [
    "### Git curiosities:\n",
    "Developed in 2005 by Linus Torvalds, the Linux developer:\n",
    "\n",
    "    Git - the stupid content tracker, but can mean anything depending on your mood \n",
    "    Check: https://github.com/git/git/blob/e83c5163316f89bfbde7d9ab23ca2e25604af290/README\n",
    "\n",
    "### Git answers to 4 questions: \n",
    "1. Who has changed?\n",
    "2. What has changed?\n",
    "3. When has changed? \n",
    "4. Why has changed?"
   ]
  },
  {
   "cell_type": "markdown",
   "id": "d48f5e61",
   "metadata": {
    "slideshow": {
     "slide_type": "slide"
    }
   },
   "source": [
    "## 1. Setting up Git"
   ]
  },
  {
   "cell_type": "markdown",
   "id": "09feb129",
   "metadata": {
    "slideshow": {
     "slide_type": "subslide"
    }
   },
   "source": [
    "### Checking the instalation:"
   ]
  },
  {
   "cell_type": "code",
   "execution_count": 2,
   "id": "cd5958fc",
   "metadata": {
    "slideshow": {
     "slide_type": "subslide"
    }
   },
   "outputs": [
    {
     "name": "stdout",
     "output_type": "stream",
     "text": [
      "git version 2.25.1\n",
      "\u001b[?2004h"
     ]
    },
    {
     "ename": "",
     "evalue": "1",
     "output_type": "error",
     "traceback": []
    }
   ],
   "source": [
    "git --version"
   ]
  },
  {
   "cell_type": "markdown",
   "id": "2912406b",
   "metadata": {
    "slideshow": {
     "slide_type": "subslide"
    }
   },
   "source": [
    "If not installed: <br>\n",
    "\n",
    "    Follow the instructions from the Git website (https://git-scm.com/)\n",
    " "
   ]
  },
  {
   "cell_type": "markdown",
   "id": "397591cb",
   "metadata": {
    "slideshow": {
     "slide_type": "slide"
    }
   },
   "source": [
    "### Git manual and help:\n",
    "```bash\n",
    "# Manual\n",
    "man git\n",
    "\n",
    "# Help\n",
    "git --help\n",
    "```"
   ]
  },
  {
   "cell_type": "markdown",
   "id": "dba13a4a",
   "metadata": {
    "slideshow": {
     "slide_type": "slide"
    }
   },
   "source": [
    "###  Configure Git:\n",
    "```bash\n",
    "# 1. Set your user name\n",
    "git config --global user.name \"Yoselita\"\n",
    "\n",
    "# 2. Set your email\n",
    "git config --global user.email \"milovacj@unican.es\"\n",
    "\n",
    "# 3. Set your favourite editor, e.g. emacs, gedit, vim, nano\n",
    "git config --global core.editor \"gedit\"\n",
    "```"
   ]
  },
  {
   "cell_type": "code",
   "execution_count": 3,
   "id": "0dfb6502",
   "metadata": {
    "scrolled": true,
    "slideshow": {
     "slide_type": "subslide"
    }
   },
   "outputs": [
    {
     "name": "stdout",
     "output_type": "stream",
     "text": [
      "credential.helper=cache\n",
      "user.email=milovacj@unican.es\n",
      "user.name=Yoselita\n",
      "core.editor=gedit\n",
      "core.repositoryformatversion=0\n",
      "core.filemode=true\n",
      "core.bare=false\n",
      "core.logallrefupdates=true\n",
      "remote.origin.url=https://github.com/Yoselita/introduction-to-Git.git\n",
      "remote.origin.fetch=+refs/heads/*:refs/remotes/origin/*\n",
      "branch.main.remote=origin\n",
      "branch.main.merge=refs/heads/main\n",
      "\u001b[?2004h"
     ]
    },
    {
     "ename": "",
     "evalue": "1",
     "output_type": "error",
     "traceback": []
    }
   ],
   "source": [
    "# Check what you got  \n",
    "git config --list"
   ]
  },
  {
   "cell_type": "markdown",
   "id": "eb3c5aac",
   "metadata": {
    "slideshow": {
     "slide_type": "subslide"
    }
   },
   "source": [
    "<div class=\"alert alert-block alert-info\">\n",
    "<b>Exercise</b><br/>\n",
    "Personalize Git on your machine using git config commands, and check the setting.\n",
    "</div>"
   ]
  },
  {
   "cell_type": "markdown",
   "id": "e1fcf5bd",
   "metadata": {
    "slideshow": {
     "slide_type": "subslide"
    }
   },
   "source": [
    "<div class=\"alert alert-danger\" role=\"alert\">\n",
    "<b>Important</b><br/>\n",
    "1. Check Git - install following the instactions on the Git web: https://git-scm.com/<br>\n",
    "2. Personalize your Git (username, email, editor) using git config commands.\n",
    "</div>"
   ]
  },
  {
   "cell_type": "markdown",
   "id": "200f6bec",
   "metadata": {
    "slideshow": {
     "slide_type": "slide"
    }
   },
   "source": [
    "## 2. Creating a repository\n",
    "\n",
    "__Repository__ is a storage area where a version control system (i.e. Git) stores the full history of changes made on the files within the folder, and keeps all the information about who, when, what, and also why."
   ]
  },
  {
   "cell_type": "code",
   "execution_count": 52,
   "id": "f8f853e1",
   "metadata": {
    "slideshow": {
     "slide_type": "subslide"
    }
   },
   "outputs": [
    {
     "name": "stdout",
     "output_type": "stream",
     "text": [
      "\u001b[?2004h\u001b[?2004l\u001b[?2004l\u001b[?2004l\u001b[?2004l\u001b[?2004l"
     ]
    },
    {
     "ename": "",
     "evalue": "1",
     "output_type": "error",
     "traceback": []
    }
   ],
   "source": [
    "# Create our first Repository\n",
    "\n",
    "cd ~/Desktop\n",
    "mkdir -p MyGitRepo\n",
    "cd MyGitRepo\n",
    "ls -A"
   ]
  },
  {
   "cell_type": "code",
   "execution_count": 53,
   "id": "6c4e7976",
   "metadata": {
    "slideshow": {
     "slide_type": "subslide"
    }
   },
   "outputs": [
    {
     "name": "stdout",
     "output_type": "stream",
     "text": [
      "Initialized empty Git repository in /home/milovacj/Desktop/MyGitRepo/.git/\n",
      "\u001b[?2004h\u001b[?2004l"
     ]
    },
    {
     "ename": "",
     "evalue": "1",
     "output_type": "error",
     "traceback": []
    }
   ],
   "source": [
    "# initialize Git\n",
    "\n",
    "git init \n",
    "ls "
   ]
  },
  {
   "cell_type": "code",
   "execution_count": 54,
   "id": "be1a3515",
   "metadata": {},
   "outputs": [
    {
     "name": "stdout",
     "output_type": "stream",
     "text": [
      "\u001b[0m\u001b[01;34m.git\u001b[0m\n",
      "\u001b[?2004h"
     ]
    },
    {
     "ename": "",
     "evalue": "1",
     "output_type": "error",
     "traceback": []
    }
   ],
   "source": [
    "ls -A"
   ]
  },
  {
   "cell_type": "markdown",
   "id": "f3b83535",
   "metadata": {
    "slideshow": {
     "slide_type": "subslide"
    }
   },
   "source": [
    "<div class=\"alert alert-danger\" role=\"alert\">\n",
    "  <b>Important</b><br/>\n",
    "  1. <b>git init</b> initializes Git within the selected repository.<br/>\n",
    "  2. All the information is stored in the hidden <b>.git</b> directory. If deleted, all is lost!\n",
    "</div>"
   ]
  },
  {
   "cell_type": "markdown",
   "id": "f83a8763",
   "metadata": {
    "slideshow": {
     "slide_type": "slide"
    }
   },
   "source": [
    "## 3. Making and tracking changes\n",
    "\n",
    "Lets create our firtst empty file:"
   ]
  },
  {
   "cell_type": "code",
   "execution_count": 127,
   "id": "42b7f923",
   "metadata": {
    "slideshow": {
     "slide_type": "subslide"
    }
   },
   "outputs": [
    {
     "name": "stdout",
     "output_type": "stream",
     "text": [
      "\u001b[?2004h\u001b[?2004l"
     ]
    },
    {
     "ename": "",
     "evalue": "1",
     "output_type": "error",
     "traceback": []
    }
   ],
   "source": [
    "cd ~/Desktop/MyGitRepo\n",
    "touch readme.txt"
   ]
  },
  {
   "cell_type": "markdown",
   "id": "70042262",
   "metadata": {},
   "source": [
    "Check the conent of the folder:"
   ]
  },
  {
   "cell_type": "code",
   "execution_count": 128,
   "id": "a91caef2",
   "metadata": {},
   "outputs": [
    {
     "name": "stdout",
     "output_type": "stream",
     "text": [
      "readme.txt\n",
      "\u001b[?2004h"
     ]
    },
    {
     "ename": "",
     "evalue": "1",
     "output_type": "error",
     "traceback": []
    }
   ],
   "source": [
    "ls"
   ]
  },
  {
   "cell_type": "markdown",
   "id": "be3aaad1",
   "metadata": {},
   "source": [
    "Check how Git deals with the new file:"
   ]
  },
  {
   "cell_type": "code",
   "execution_count": 129,
   "id": "12d06b30",
   "metadata": {},
   "outputs": [
    {
     "name": "stdout",
     "output_type": "stream",
     "text": [
      "On branch master\n",
      "Changes not staged for commit:\n",
      "  (use \"git add <file>...\" to update what will be committed)\n",
      "  (use \"git restore <file>...\" to discard changes in working directory)\n",
      "\t\u001b[31mmodified:   readme.txt\u001b[m\n",
      "\n",
      "no changes added to commit (use \"git add\" and/or \"git commit -a\")\n",
      "\u001b[?2004h"
     ]
    },
    {
     "ename": "",
     "evalue": "1",
     "output_type": "error",
     "traceback": []
    }
   ],
   "source": [
    "git status"
   ]
  },
  {
   "cell_type": "markdown",
   "id": "57aded87",
   "metadata": {},
   "source": [
    "Untracked files means that there is a file (readme.txt) that is not tracked by Git.<br> \n",
    "To start tracking the file, we have to stage the file:"
   ]
  },
  {
   "cell_type": "code",
   "execution_count": 130,
   "id": "122bb663",
   "metadata": {},
   "outputs": [
    {
     "name": "stdout",
     "output_type": "stream",
     "text": [
      "On branch master\n",
      "Changes to be committed:\n",
      "  (use \"git restore --staged <file>...\" to unstage)\n",
      "\t\u001b[32mmodified:   readme.txt\u001b[m\n",
      "\n",
      "\u001b[?2004h"
     ]
    },
    {
     "ename": "",
     "evalue": "1",
     "output_type": "error",
     "traceback": []
    }
   ],
   "source": [
    "git add readme.txt\n",
    "git status"
   ]
  },
  {
   "cell_type": "markdown",
   "id": "ca78f009",
   "metadata": {},
   "source": [
    "The file is staged, but the current snapshot of the file is not saved.<br>\n",
    "To do that we have to \"commit\" the changes:"
   ]
  },
  {
   "cell_type": "code",
   "execution_count": 131,
   "id": "7c42dacd",
   "metadata": {},
   "outputs": [
    {
     "name": "stdout",
     "output_type": "stream",
     "text": [
      "[master 85d098e] Add new file\n",
      " 1 file changed, 2 insertions(+)\n",
      "\u001b[?2004h"
     ]
    },
    {
     "ename": "",
     "evalue": "1",
     "output_type": "error",
     "traceback": []
    }
   ],
   "source": [
    "git commit -m 'Add new file'"
   ]
  },
  {
   "cell_type": "markdown",
   "id": "94416480",
   "metadata": {},
   "source": [
    "```bash\n",
    "git commit -m          # add commit message directly from the command line\n",
    "git commit -a          # automatically stages all the modified or deleted files\n",
    "git commit -F          # add commit message from a file\n",
    "git commit --status    # include the oputput of git status in the message\n",
    "git commit --amend     # change or fix a commit message\n",
    "git commit             # open the editor where you write the message\n",
    "```"
   ]
  },
  {
   "cell_type": "markdown",
   "id": "33ae3b8b",
   "metadata": {},
   "source": [
    "__git commit__ does 4 things:\n",
    "1. Saves the current state of the staged file.\n",
    "2. Gives that state a specific ID.\n",
    "3. Asigns you as an author of the changes.\n",
    "4. Asings a descriptive message you provided as an author."
   ]
  },
  {
   "cell_type": "markdown",
   "id": "5f56a16a",
   "metadata": {},
   "source": [
    "<div class=\"alert alert-warning\" role=\"alert\">\n",
    "  <b>Good practice of writing commit messages:</b><br/>\n",
    "    1. Separate a title from the body with a blank line (if message longer) <br/> \n",
    "    2. Capitalize the subject line and each paragraph <br/> \n",
    "    3. Use the imperative mode in the subject line (e.g. Add, Change, Fix...) <br/> \n",
    "    4. Wrap it to 72 characters. <br/>\n",
    "    5. Use the body to explain what and why you have done something. In most cases, you can leave out details about how a change has been made.<br/> \n",
    "</div>"
   ]
  },
  {
   "cell_type": "code",
   "execution_count": 132,
   "id": "62ed9cc9",
   "metadata": {},
   "outputs": [
    {
     "name": "stdout",
     "output_type": "stream",
     "text": [
      "On branch master\n",
      "nothing to commit, working tree clean\n",
      "\u001b[?2004h"
     ]
    },
    {
     "ename": "",
     "evalue": "1",
     "output_type": "error",
     "traceback": []
    }
   ],
   "source": [
    "git status"
   ]
  },
  {
   "cell_type": "code",
   "execution_count": 133,
   "id": "1515e226",
   "metadata": {},
   "outputs": [
    {
     "name": "stdout",
     "output_type": "stream",
     "text": [
      "\u001b[33mcommit 85d098e3e65a6039db0145af6abe3fc2ba1f6267\u001b[m\u001b[33m (\u001b[m\u001b[1;36mHEAD -> \u001b[m\u001b[1;32mmaster\u001b[m\u001b[33m)\u001b[m\n",
      "Author: Yoselita <milovacj@unican.es>\n",
      "Date:   Thu Nov 4 19:20:06 2021 +0100\n",
      "\n",
      "    Add new file\n",
      "\n",
      "\u001b[33mcommit 1bfd7a2d147cf6202affab67b594893ff6e8f362\u001b[m\n",
      "Author: Yoselita <milovacj@unican.es>\n",
      "Date:   Thu Nov 4 18:57:10 2021 +0100\n",
      "\n",
      "    Add new file\n",
      "\u001b[?2004h"
     ]
    },
    {
     "ename": "",
     "evalue": "1",
     "output_type": "error",
     "traceback": []
    }
   ],
   "source": [
    "# To review the commit message, use log command:\n",
    "\n",
    "git log"
   ]
  },
  {
   "cell_type": "markdown",
   "id": "5bb24e05",
   "metadata": {},
   "source": [
    "<div class=\"alert alert-block alert-info\">\n",
    "<b>Exercise</b><br/>\n",
    "    1. Edit your file, write 'This is the first line.', and save the changes<br/>\n",
    "    2. Check the git status and stage the file.<br/>\n",
    "    3. Save the current state of the file (snapshot) and add a meaningful message.<br/>\n",
    "    4. Check log history. <br/>\n",
    "</div>"
   ]
  },
  {
   "cell_type": "code",
   "execution_count": 134,
   "id": "40f927ba",
   "metadata": {},
   "outputs": [
    {
     "name": "stdout",
     "output_type": "stream",
     "text": [
      "On branch master\n",
      "Changes not staged for commit:\n",
      "  (use \"git add <file>...\" to update what will be committed)\n",
      "  (use \"git restore <file>...\" to discard changes in working directory)\n",
      "\t\u001b[31mmodified:   readme.txt\u001b[m\n",
      "\n",
      "no changes added to commit (use \"git add\" and/or \"git commit -a\")\n",
      "[master 43aadd8] Add first line to the txt file.\n",
      " 1 file changed, 1 insertion(+), 2 deletions(-)\n",
      "\u001b[33mcommit 43aadd8da07e551aa888bdb593803c357d3fa065\u001b[m\u001b[33m (\u001b[m\u001b[1;36mHEAD -> \u001b[m\u001b[1;32mmaster\u001b[m\u001b[33m)\u001b[m\n",
      "Author: Yoselita <milovacj@unican.es>\n",
      "Date:   Thu Nov 4 19:20:08 2021 +0100\n",
      "\n",
      "    Add first line to the txt file.\n",
      "\n",
      "\u001b[33mcommit 85d098e3e65a6039db0145af6abe3fc2ba1f6267\u001b[m\n",
      "Author: Yoselita <milovacj@unican.es>\n",
      "Date:   Thu Nov 4 19:20:06 2021 +0100\n",
      "\n",
      "    Add new file\n",
      "\n",
      "\u001b[33mcommit 1bfd7a2d147cf6202affab67b594893ff6e8f362\u001b[m\n",
      "Author: Yoselita <milovacj@unican.es>\n",
      "Date:   Thu Nov 4 18:57:10 2021 +0100\n",
      "\n",
      "    Add new file\n",
      "\u001b[?2004h"
     ]
    },
    {
     "ename": "",
     "evalue": "1",
     "output_type": "error",
     "traceback": []
    }
   ],
   "source": [
    "echo 'This is the first line.' > readme.txt\n",
    "git status\n",
    "git add readme.txt\n",
    "git commit -m 'Add first line to the txt file.'\n",
    "git log"
   ]
  },
  {
   "cell_type": "markdown",
   "id": "874f1dcc",
   "metadata": {},
   "source": [
    "To check the differences made in a file:"
   ]
  },
  {
   "cell_type": "code",
   "execution_count": 135,
   "id": "be6649c4",
   "metadata": {},
   "outputs": [
    {
     "name": "stdout",
     "output_type": "stream",
     "text": [
      "On branch master\n",
      "Changes not staged for commit:\n",
      "  (use \"git add <file>...\" to update what will be committed)\n",
      "  (use \"git restore <file>...\" to discard changes in working directory)\n",
      "\t\u001b[31mmodified:   readme.txt\u001b[m\n",
      "\n",
      "no changes added to commit (use \"git add\" and/or \"git commit -a\")\n",
      "\u001b[1mdiff --git a/readme.txt b/readme.txt\u001b[m\n",
      "\u001b[1mindex 597df84..c1c0fb4 100644\u001b[m\n",
      "\u001b[1m--- a/readme.txt\u001b[m\n",
      "\u001b[1m+++ b/readme.txt\u001b[m\n",
      "\u001b[36m@@ -1 +1,2 @@\u001b[m\n",
      " This is the first line.\u001b[m\n",
      "\u001b[32m+\u001b[m\u001b[32mThis is the second line.\u001b[m\n",
      "\u001b[?2004h"
     ]
    },
    {
     "ename": "",
     "evalue": "1",
     "output_type": "error",
     "traceback": []
    }
   ],
   "source": [
    "echo 'This is the second line.' >> readme.txt\n",
    "git status\n",
    "git diff"
   ]
  },
  {
   "cell_type": "markdown",
   "id": "24e33f0e",
   "metadata": {},
   "source": [
    "But if we stage the file:"
   ]
  },
  {
   "cell_type": "code",
   "execution_count": 136,
   "id": "9131283b",
   "metadata": {},
   "outputs": [
    {
     "name": "stdout",
     "output_type": "stream",
     "text": [
      "\u001b[?2004h\u001b[?2004l"
     ]
    },
    {
     "ename": "",
     "evalue": "1",
     "output_type": "error",
     "traceback": []
    }
   ],
   "source": [
    "git add readme.txt\n",
    "git diff"
   ]
  },
  {
   "cell_type": "code",
   "execution_count": 137,
   "id": "06dcf118",
   "metadata": {},
   "outputs": [
    {
     "name": "stdout",
     "output_type": "stream",
     "text": [
      "\u001b[1mdiff --git a/readme.txt b/readme.txt\u001b[m\n",
      "\u001b[1mindex 597df84..c1c0fb4 100644\u001b[m\n",
      "\u001b[1m--- a/readme.txt\u001b[m\n",
      "\u001b[1m+++ b/readme.txt\u001b[m\n",
      "\u001b[36m@@ -1 +1,2 @@\u001b[m\n",
      " This is the first line.\u001b[m\n",
      "\u001b[32m+\u001b[m\u001b[32mThis is the second line.\u001b[m\n",
      "\u001b[?2004h"
     ]
    },
    {
     "ename": "",
     "evalue": "1",
     "output_type": "error",
     "traceback": []
    }
   ],
   "source": [
    "git diff --staged"
   ]
  },
  {
   "cell_type": "markdown",
   "id": "ea35db29",
   "metadata": {},
   "source": [
    "<div class=\"alert alert-danger\" role=\"alert\">\n",
    "  <b>Important</b><br/>\n",
    "    1. git status   -> gives current status of the respository <br/>\n",
    "    2. git add [file]>     -> stages a file to be tracked by git <br/>\n",
    "    3. git commit -m 'message'  -> saves the current state of the file with a descriptive message <br/>\n",
    "    4. git log      -> shows all the history of commits, with all metadata <br/>\n",
    "    5. git diff (--staged)      -> shows the differences made in a file after the last commit <br/>\n",
    "</div>"
   ]
  },
  {
   "cell_type": "markdown",
   "id": "01d2c3ff",
   "metadata": {
    "slideshow": {
     "slide_type": "slide"
    }
   },
   "source": [
    "## 4. Unstaging and undoing\n"
   ]
  },
  {
   "cell_type": "code",
   "execution_count": 144,
   "id": "31a84cce",
   "metadata": {
    "slideshow": {
     "slide_type": "subslide"
    }
   },
   "outputs": [
    {
     "name": "stdout",
     "output_type": "stream",
     "text": [
      "On branch master\n",
      "nothing to commit, working tree clean\n",
      "\u001b[?2004h"
     ]
    },
    {
     "ename": "",
     "evalue": "1",
     "output_type": "error",
     "traceback": []
    }
   ],
   "source": [
    "git status"
   ]
  },
  {
   "cell_type": "markdown",
   "id": "b9151696",
   "metadata": {
    "slideshow": {
     "slide_type": "subslide"
    }
   },
   "source": [
    "To unstage the staged file:"
   ]
  },
  {
   "cell_type": "code",
   "execution_count": 145,
   "id": "f23d2677",
   "metadata": {
    "slideshow": {
     "slide_type": "subslide"
    }
   },
   "outputs": [
    {
     "name": "stdout",
     "output_type": "stream",
     "text": [
      "On branch master\n",
      "nothing to commit, working tree clean\n",
      "\u001b[?2004h"
     ]
    },
    {
     "ename": "",
     "evalue": "1",
     "output_type": "error",
     "traceback": []
    }
   ],
   "source": [
    "git reset readme.txt\n",
    "git status"
   ]
  },
  {
   "cell_type": "code",
   "execution_count": 147,
   "id": "23f510f3",
   "metadata": {
    "slideshow": {
     "slide_type": "subslide"
    }
   },
   "outputs": [
    {
     "name": "stdout",
     "output_type": "stream",
     "text": [
      "\u001b[33mcommit 43aadd8da07e551aa888bdb593803c357d3fa065\u001b[m\u001b[33m (\u001b[m\u001b[1;36mHEAD -> \u001b[m\u001b[1;32mmaster\u001b[m\u001b[33m)\u001b[m\n",
      "Author: Yoselita <milovacj@unican.es>\n",
      "Date:   Thu Nov 4 19:20:08 2021 +0100\n",
      "\n",
      "    Add first line to the txt file.\n",
      "\n",
      "\u001b[33mcommit 85d098e3e65a6039db0145af6abe3fc2ba1f6267\u001b[m\n",
      "Author: Yoselita <milovacj@unican.es>\n",
      "Date:   Thu Nov 4 19:20:06 2021 +0100\n",
      "\n",
      "    Add new file\n",
      "\n",
      "\u001b[33mcommit 1bfd7a2d147cf6202affab67b594893ff6e8f362\u001b[m\n",
      "Author: Yoselita <milovacj@unican.es>\n",
      "Date:   Thu Nov 4 18:57:10 2021 +0100\n",
      "\n",
      "    Add new file\n",
      "bash: syntax error near unexpected token `newline'\n",
      "\u001b[?2004h"
     ]
    },
    {
     "ename": "",
     "evalue": "1",
     "output_type": "error",
     "traceback": []
    }
   ],
   "source": [
    "git log"
   ]
  },
  {
   "cell_type": "code",
   "execution_count": 149,
   "id": "23070b85",
   "metadata": {
    "slideshow": {
     "slide_type": "subslide"
    }
   },
   "outputs": [
    {
     "name": "stdout",
     "output_type": "stream",
     "text": [
      "HEAD is now at 1bfd7a2 Add new file\n",
      "\u001b[?2004h"
     ]
    },
    {
     "ename": "",
     "evalue": "1",
     "output_type": "error",
     "traceback": []
    }
   ],
   "source": [
    "#To unstage the modifications to a selected commited stage:\n",
    "git reset --hard 1bfd7a2d147cf6202affab67b594893ff6e8f362"
   ]
  },
  {
   "cell_type": "code",
   "execution_count": 150,
   "id": "402a7855",
   "metadata": {
    "slideshow": {
     "slide_type": "subslide"
    }
   },
   "outputs": [
    {
     "name": "stdout",
     "output_type": "stream",
     "text": [
      "\u001b[?2004h\u001b[?2004l"
     ]
    },
    {
     "ename": "",
     "evalue": "1",
     "output_type": "error",
     "traceback": []
    }
   ],
   "source": [
    "# To unstage the modification made after commiting:\n",
    "git checkout -- readme.txt"
   ]
  },
  {
   "cell_type": "markdown",
   "id": "bef0bffd",
   "metadata": {
    "slideshow": {
     "slide_type": "subslide"
    }
   },
   "source": [
    "<div class=\"alert alert-danger\" role=\"alert\">\n",
    "  <b>Important</b><br/>\n",
    "    1. git reset [file]  -> unstages the file <br/>\n",
    "    2. git reset --hard  [commit ID]    -> undoes changes made on the file to a commited stage <br/>\n",
    "    3. git checkout --[file] -> undoes changes made on the file after comming <br/>\n",
    "</div>"
   ]
  },
  {
   "cell_type": "code",
   "execution_count": null,
   "id": "ce6d482e",
   "metadata": {},
   "outputs": [],
   "source": []
  }
 ],
 "metadata": {
  "celltoolbar": "Slideshow",
  "kernelspec": {
   "display_name": "Bash",
   "language": "bash",
   "name": "bash"
  },
  "language_info": {
   "codemirror_mode": "shell",
   "file_extension": ".sh",
   "mimetype": "text/x-sh",
   "name": "bash"
  }
 },
 "nbformat": 4,
 "nbformat_minor": 5
}
